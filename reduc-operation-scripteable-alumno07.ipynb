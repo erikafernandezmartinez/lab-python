{
 "cells": [
  {
   "cell_type": "markdown",
   "id": "f942d288-be01-42cd-9b84-83529c6769be",
   "metadata": {},
   "source": [
    "### Reduction operation: the sum of the numbers in the range [0, a)"
   ]
  },
  {
   "cell_type": "code",
   "execution_count": 4,
   "id": "496946fa-2a28-4c1d-8a6a-2ee0b8fd8ced",
   "metadata": {},
   "outputs": [
    {
     "name": "stdout",
     "output_type": "stream",
     "text": [
      "Advertencia: El argumento '-f' no es un número válido. Se usará el valor por defecto: 1000000.\n",
      "Operación de reducción con 1000000 elementos\n"
     ]
    }
   ],
   "source": [
    "import sys\n",
    "\n",
    "# Valor por defecto\n",
    "default_value = 10**6\n",
    "value = default_value\n",
    "\n",
    "# Comprobamos si hay más de un argumento (el script en sí es el primero)\n",
    "if len(sys.argv) > 1:\n",
    "    # Intentamos convertir el primer argumento a un entero\n",
    "    try:\n",
    "        value = int(sys.argv[1])\n",
    "    except ValueError:\n",
    "        # Si la conversión falla (porque no es un número), usamos el valor por defecto\n",
    "        print(f\"Advertencia: El argumento '{sys.argv[1]}' no es un número válido. Se usará el valor por defecto: {default_value}.\")\n",
    "        value = default_value\n",
    "    except IndexError:\n",
    "        # Esto captura si sys.argv[1] no existe por alguna razón inesperada\n",
    "        print(f\"Advertencia: No se encontró un argumento válido. Se usará el valor por defecto: {default_value}.\")\n",
    "        value = default_value\n",
    "\n",
    "print(f\"Operación de reducción con {value} elementos\")"
   ]
  },
  {
   "cell_type": "code",
   "execution_count": 5,
   "id": "3c6faf2a-6986-4023-be66-672c3be5d193",
   "metadata": {},
   "outputs": [
    {
     "name": "stdout",
     "output_type": "stream",
     "text": [
      "Suma con for sobre lista: 499999500000, tiempo: 0.4455 s\n",
      "Suma con sum(lista): 499999500000, tiempo: 0.0310 s\n"
     ]
    }
   ],
   "source": [
    "import time\n",
    "\n",
    "# Crear lista de 10**6 elementos\n",
    "lista = list(range(10**6))\n",
    "\n",
    "# a) Suma con bucle for\n",
    "start = time.time()\n",
    "total = 0\n",
    "for num in lista:\n",
    "    total += num\n",
    "end = time.time()\n",
    "print(f\"Suma con for sobre lista: {total}, tiempo: {end - start:.4f} s\")\n",
    "\n",
    "# b) Suma con función sum\n",
    "start = time.time()\n",
    "total = sum(lista)\n",
    "end = time.time()\n",
    "print(f\"Suma con sum(lista): {total}, tiempo: {end - start:.4f} s\")\n"
   ]
  },
  {
   "cell_type": "code",
   "execution_count": 6,
   "id": "8af0a152-c007-4ef7-8c3e-09f8e9156f38",
   "metadata": {},
   "outputs": [
    {
     "name": "stdout",
     "output_type": "stream",
     "text": [
      "Suma con for sobre array NumPy: 499999500000, tiempo: 0.9365 s\n",
      "Suma con np.sum(array): 499999500000, tiempo: 0.0025 s\n"
     ]
    }
   ],
   "source": [
    "import numpy as np\n",
    "\n",
    "# Convertir la lista anterior a un array de numpy\n",
    "array = np.array(lista)\n",
    "\n",
    "# a) Suma con bucle for\n",
    "start = time.time()\n",
    "total = 0\n",
    "for num in array:\n",
    "    total += num\n",
    "end = time.time()\n",
    "print(f\"Suma con for sobre array NumPy: {total}, tiempo: {end - start:.4f} s\")\n",
    "\n",
    "# b) Suma con numpy.sum\n",
    "start = time.time()\n",
    "total = np.sum(array)\n",
    "end = time.time()\n",
    "print(f\"Suma con np.sum(array): {total}, tiempo: {end - start:.4f} s\")\n"
   ]
  },
  {
   "cell_type": "code",
   "execution_count": 7,
   "id": "81654f8f-7700-41dd-a0f7-4c6156ddf377",
   "metadata": {},
   "outputs": [
    {
     "name": "stdout",
     "output_type": "stream",
     "text": [
      "Suma con Numba + for: 499999500000\n",
      "Tiempo con Numba + for: 3.9789562225341797\n",
      "Suma con NumPy sum(): 499999500000\n",
      "Tiempo con NumPy sum(): 0.002428293228149414\n"
     ]
    }
   ],
   "source": [
    "from numba import njit\n",
    "import numpy as np\n",
    "import time\n",
    "\n",
    "# Decorador de Numba para compilación\n",
    "@njit\n",
    "def suma_numba_loop(arr):\n",
    "    total = 0\n",
    "    for i in range(len(arr)):\n",
    "        total += arr[i]\n",
    "    return total\n",
    "\n",
    "array_np = np.arange(10**6)\n",
    "\n",
    "# a) Suma con bucle for y numba\n",
    "start = time.time()\n",
    "resultado = suma_numba_loop(array_np)\n",
    "end = time.time()\n",
    "print(\"Suma con Numba + for:\", resultado)\n",
    "print(\"Tiempo con Numba + for:\", end - start)\n",
    "\n",
    "# b) Suma directa con numpy (sin Numba, como referencia)\n",
    "start = time.time()\n",
    "resultado = np.sum(array_np)\n",
    "end = time.time()\n",
    "print(\"Suma con NumPy sum():\", resultado)\n",
    "print(\"Tiempo con NumPy sum():\", end - start)\n",
    "\n"
   ]
  },
  {
   "cell_type": "markdown",
   "id": "81945378-a845-450e-b022-f024a290ee5e",
   "metadata": {},
   "source": [
    "### Comparación de rendimiento entre los métodos\n",
    "\n",
    "1. **Código original**: Implementa la suma con un bucle for, recorriendo un rango de números. Es la forma más básica y lenta, ya que no utiliza estructuras optimizadas.\n",
    "2. **Con listas de Python**:\n",
    "   - El bucle for sigue siendo lento, aunque un poco más rápido que el código original.\n",
    "   - Usar `sum(lista)` es mucho más eficiente, ya que está optimizado internamente.\n",
    "3. **Con NumPy**:\n",
    "   - El bucle for sobre un array de NumPy es algo más rápido que sobre listas, pero aún ineficiente comparado con métodos vectorizados.\n",
    "   - Usar `np.sum(array)` es el método más rápido, ya que NumPy opera a nivel de bajo nivel en C.\n",
    "\n",
    "En resumen, el uso de estructuras de datos optimizadas como `numpy.array` y funciones vectorizadas (`np.sum`) permite mejorar considerablemente el rendimiento en operaciones de reducción como esta.\n"
   ]
  }
 ],
 "metadata": {
  "kernelspec": {
   "display_name": "Python 3 (ipykernel)",
   "language": "python",
   "name": "python3"
  },
  "language_info": {
   "codemirror_mode": {
    "name": "ipython",
    "version": 3
   },
   "file_extension": ".py",
   "mimetype": "text/x-python",
   "name": "python",
   "nbconvert_exporter": "python",
   "pygments_lexer": "ipython3",
   "version": "3.10.9"
  }
 },
 "nbformat": 4,
 "nbformat_minor": 5
}
