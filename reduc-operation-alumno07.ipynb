{
 "cells": [
  {
   "cell_type": "markdown",
   "id": "f942d288-be01-42cd-9b84-83529c6769be",
   "metadata": {},
   "source": [
    "### Reduction operation: the sum of the numbers in the range [0, a)"
   ]
  },
  {
   "cell_type": "code",
   "execution_count": 3,
   "id": "496946fa-2a28-4c1d-8a6a-2ee0b8fd8ced",
   "metadata": {},
   "outputs": [
    {
     "name": "stdout",
     "output_type": "stream",
     "text": [
      "Time taken by reduction operation: 0.018224477767944336 seconds\n",
      "16.6 ms ± 177 µs per loop (mean ± std. dev. of 2 runs, 100 loops each)\n",
      "\n",
      " \t Computing the sum of numbers in the range [0, value): 499999500000\n",
      "\n"
     ]
    }
   ],
   "source": [
    "import time\n",
    "\n",
    "def reduc_operation(a):\n",
    "    \"\"\"Compute the sum of the numbers in the range [0, a).\"\"\"\n",
    "    x = 0\n",
    "    for i in range(a):\n",
    "        x += i\n",
    "    return x\n",
    "\n",
    "# Secuencial\n",
    "\n",
    "value = 1000000\n",
    "\n",
    "initialTime = time.time()\n",
    "suma = reduc_operation(value)\n",
    "finalTime = time.time()\n",
    "\n",
    "print(\"Time taken by reduction operation:\", (finalTime - initialTime), \"seconds\")\n",
    "\n",
    "# Utilizando las operaciones mágicas de ipython\n",
    "%timeit -r 2 reduc_operation(value)\n",
    "\n",
    "print(f\"\\n \\t Computing the sum of numbers in the range [0, value): {suma}\\n\")"
   ]
  },
  {
   "cell_type": "code",
   "execution_count": 1,
   "id": "3c6faf2a-6986-4023-be66-672c3be5d193",
   "metadata": {},
   "outputs": [
    {
     "name": "stdout",
     "output_type": "stream",
     "text": [
      "Suma con for sobre lista: 499999500000, tiempo: 0.4624 s\n",
      "Suma con sum(lista): 499999500000, tiempo: 0.0335 s\n"
     ]
    }
   ],
   "source": [
    "import time\n",
    "\n",
    "# Crear lista de 10**6 elementos\n",
    "lista = list(range(10**6))\n",
    "\n",
    "# a) Suma con bucle for\n",
    "start = time.time()\n",
    "total = 0\n",
    "for num in lista:\n",
    "    total += num\n",
    "end = time.time()\n",
    "print(f\"Suma con for sobre lista: {total}, tiempo: {end - start:.4f} s\")\n",
    "\n",
    "# b) Suma con función sum\n",
    "start = time.time()\n",
    "total = sum(lista)\n",
    "end = time.time()\n",
    "print(f\"Suma con sum(lista): {total}, tiempo: {end - start:.4f} s\")\n"
   ]
  },
  {
   "cell_type": "code",
   "execution_count": 2,
   "id": "8af0a152-c007-4ef7-8c3e-09f8e9156f38",
   "metadata": {},
   "outputs": [
    {
     "name": "stdout",
     "output_type": "stream",
     "text": [
      "Suma con for sobre array NumPy: 499999500000, tiempo: 1.0438 s\n",
      "Suma con np.sum(array): 499999500000, tiempo: 0.0020 s\n"
     ]
    }
   ],
   "source": [
    "import numpy as np\n",
    "\n",
    "# Convertir la lista anterior a un array de numpy\n",
    "array = np.array(lista)\n",
    "\n",
    "# a) Suma con bucle for\n",
    "start = time.time()\n",
    "total = 0\n",
    "for num in array:\n",
    "    total += num\n",
    "end = time.time()\n",
    "print(f\"Suma con for sobre array NumPy: {total}, tiempo: {end - start:.4f} s\")\n",
    "\n",
    "# b) Suma con numpy.sum\n",
    "start = time.time()\n",
    "total = np.sum(array)\n",
    "end = time.time()\n",
    "print(f\"Suma con np.sum(array): {total}, tiempo: {end - start:.4f} s\")\n"
   ]
  },
  {
   "cell_type": "markdown",
   "id": "81945378-a845-450e-b022-f024a290ee5e",
   "metadata": {},
   "source": [
    "### Comparación de rendimiento entre los métodos\n",
    "\n",
    "1. **Código original**: Implementa la suma con un bucle for, recorriendo un rango de números. Es la forma más básica y lenta, ya que no utiliza estructuras optimizadas.\n",
    "2. **Con listas de Python**:\n",
    "   - El bucle for sigue siendo lento, aunque un poco más rápido que el código original.\n",
    "   - Usar `sum(lista)` es mucho más eficiente, ya que está optimizado internamente.\n",
    "3. **Con NumPy**:\n",
    "   - El bucle for sobre un array de NumPy es algo más rápido que sobre listas, pero aún ineficiente comparado con métodos vectorizados.\n",
    "   - Usar `np.sum(array)` es el método más rápido, ya que NumPy opera a nivel de bajo nivel en C.\n",
    "\n",
    "En resumen, el uso de estructuras de datos optimizadas como `numpy.array` y funciones vectorizadas (`np.sum`) permite mejorar considerablemente el rendimiento en operaciones de reducción como esta.\n"
   ]
  }
 ],
 "metadata": {
  "kernelspec": {
   "display_name": "Python 3 (ipykernel)",
   "language": "python",
   "name": "python3"
  },
  "language_info": {
   "codemirror_mode": {
    "name": "ipython",
    "version": 3
   },
   "file_extension": ".py",
   "mimetype": "text/x-python",
   "name": "python",
   "nbconvert_exporter": "python",
   "pygments_lexer": "ipython3",
   "version": "3.10.9"
  }
 },
 "nbformat": 4,
 "nbformat_minor": 5
}
